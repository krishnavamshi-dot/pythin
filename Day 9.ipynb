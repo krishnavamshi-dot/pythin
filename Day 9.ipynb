{
 "cells": [
  {
   "cell_type": "code",
   "execution_count": 35,
   "metadata": {},
   "outputs": [
    {
     "name": "stdout",
     "output_type": "stream",
     "text": [
      "VAMSHI\n",
      "vamshi\n"
     ]
    }
   ],
   "source": [
    "str=\"VAMshi\"\n",
    "print(str.upper())\n",
    "print(str.lower())\n"
   ]
  },
  {
   "cell_type": "code",
   "execution_count": 36,
   "metadata": {},
   "outputs": [
    {
     "name": "stdout",
     "output_type": "stream",
     "text": [
      "False\n",
      "True\n"
     ]
    }
   ],
   "source": [
    "s=\"Application\"\n",
    "s1='A'\n",
    "print(s.isupper())\n",
    "print(s1.isupper())"
   ]
  },
  {
   "cell_type": "code",
   "execution_count": 37,
   "metadata": {},
   "outputs": [
    {
     "name": "stdout",
     "output_type": "stream",
     "text": [
      "False\n",
      "False\n"
     ]
    }
   ],
   "source": [
    "s=\"Applicaton\"\n",
    "s1='A'\n",
    "print(s.islower())\n",
    "print(s1.islower())"
   ]
  },
  {
   "cell_type": "code",
   "execution_count": 38,
   "metadata": {},
   "outputs": [
    {
     "name": "stdout",
     "output_type": "stream",
     "text": [
      "True\n",
      "False\n"
     ]
    }
   ],
   "source": [
    "s=\"8888\"\n",
    "s1=\"vamsh19\"\n",
    "print(s.isnumeric())\n",
    "print(s1.isnumeric())"
   ]
  },
  {
   "cell_type": "code",
   "execution_count": 39,
   "metadata": {},
   "outputs": [
    {
     "name": "stdout",
     "output_type": "stream",
     "text": [
      "True\n",
      "False\n",
      "True\n",
      "True\n"
     ]
    }
   ],
   "source": [
    "s=\"Application\"\n",
    "s1=\"App123\"\n",
    "print(s.isalpha())\n",
    "print(s1.isalpha())\n",
    "print(s.istitle())\n",
    "print(s1.istitle())"
   ]
  },
  {
   "cell_type": "code",
   "execution_count": 40,
   "metadata": {},
   "outputs": [
    {
     "name": "stdout",
     "output_type": "stream",
     "text": [
      "k_r_i_s_h_n_a\n"
     ]
    }
   ],
   "source": [
    "str=\"krishna\"\n",
    "print(\"_\".join(str))"
   ]
  },
  {
   "cell_type": "code",
   "execution_count": 41,
   "metadata": {},
   "outputs": [
    {
     "name": "stdout",
     "output_type": "stream",
     "text": [
      "krishna\n"
     ]
    }
   ],
   "source": [
    "str=\"k_r_i_s_h_n_a\"\n",
    "print(str.replace(\"_\",\"\"))"
   ]
  },
  {
   "cell_type": "code",
   "execution_count": 42,
   "metadata": {},
   "outputs": [
    {
     "name": "stdout",
     "output_type": "stream",
     "text": [
      "False\n",
      "True\n"
     ]
    }
   ],
   "source": [
    "s=\"python\"\n",
    "s1=\" \"\n",
    "print(s.isspace())\n",
    "print(s1.isspace())"
   ]
  },
  {
   "cell_type": "code",
   "execution_count": 43,
   "metadata": {},
   "outputs": [
    {
     "name": "stdout",
     "output_type": "stream",
     "text": [
      "vamshi,rohith,45\n"
     ]
    }
   ],
   "source": [
    "print(\",\".join([\"vamshi\",\"rohith\",\"45\"]))"
   ]
  },
  {
   "cell_type": "code",
   "execution_count": 44,
   "metadata": {},
   "outputs": [
    {
     "name": "stdout",
     "output_type": "stream",
     "text": [
      "['Python', 'Programming', 'Is', 'Easy']\n"
     ]
    }
   ],
   "source": [
    "s=\"Python Programming Is Easy\"\n",
    "lst=s.split()\n",
    "print(lst)"
   ]
  },
  {
   "cell_type": "code",
   "execution_count": 45,
   "metadata": {},
   "outputs": [
    {
     "name": "stdout",
     "output_type": "stream",
     "text": [
      "c++ Programming\n"
     ]
    }
   ],
   "source": [
    "s=\"python Programming\"\n",
    "print(s.replace(\"python\",\"c++\",1))"
   ]
  },
  {
   "cell_type": "code",
   "execution_count": 46,
   "metadata": {},
   "outputs": [
    {
     "name": "stdout",
     "output_type": "stream",
     "text": [
      "t1[0]= python\n",
      "t1[2]= 1989\n",
      "t1[-1]= AI\n",
      "t1[1:4]= ('programming', 1989, 1998)\n",
      "t1[2:-2]= (1989, 1998)\n"
     ]
    }
   ],
   "source": [
    "t1=(\"python\",\"programming\",1989,1998,\"pythopn learning\",\"AI\")\n",
    "print(\"t1[0]=\",t1[0])\n",
    "print(\"t1[2]=\",t1[2])\n",
    "print(\"t1[-1]=\",t1[-1])\n",
    "print(\"t1[1:4]=\",t1[1:4])\n",
    "print(\"t1[2:-2]=\",t1[2:-2])\n",
    "\n"
   ]
  },
  {
   "cell_type": "code",
   "execution_count": 47,
   "metadata": {},
   "outputs": [
    {
     "name": "stdout",
     "output_type": "stream",
     "text": [
      "('python', 'game', 'programming')\n",
      "game\n",
      "python\n",
      "3\n",
      "1\n",
      "6\n",
      "6\n"
     ]
    }
   ],
   "source": [
    "t1=(\"python\",\"game\",\"programming\");\n",
    "t2=(1,2,3,4,5,6)\n",
    "print(t1)\n",
    "print(min(t1))\n",
    "print(max(t1))\n",
    "print(len(t1))\n",
    "print(min(t2))\n",
    "print(max(t2))\n",
    "print(len(t2))"
   ]
  },
  {
   "cell_type": "code",
   "execution_count": 48,
   "metadata": {},
   "outputs": [
    {
     "name": "stdout",
     "output_type": "stream",
     "text": [
      "user1[name]= Python\n",
      "user1[age]= 29\n"
     ]
    }
   ],
   "source": [
    "user1={\"name\":\"Python\",\"age\":29,\"emailid\":\"gmail.com\",\"mobileno\":8888888888}\n",
    "print(\"user1[name]=\",user1[\"name\"])\n",
    "print(\"user1[age]=\",user1[\"age\"])\n",
    "\n",
    "\n",
    "\n"
   ]
  },
  {
   "cell_type": "code",
   "execution_count": 49,
   "metadata": {},
   "outputs": [
    {
     "name": "stdout",
     "output_type": "stream",
     "text": [
      "{'name': 'Python', 'age': 29, 'emailid': 'gmail.com', 'mobileno': 8888888888}\n",
      "{'name': 'Python', 'age': 29, 'emailid': 'gmail.com', 'mobileno': 8888888888, 'Adress': 'Hyderabad'}\n"
     ]
    }
   ],
   "source": [
    "user1={\"name\":\"Python\",\"age\":29,\"emailid\":\"gmail.com\",\"mobileno\":8888888888}\n",
    "print(user1)\n",
    "user1[\"Adress\"]=\"Hyderabad\"\n",
    "print(user1)"
   ]
  },
  {
   "cell_type": "code",
   "execution_count": 50,
   "metadata": {},
   "outputs": [
    {
     "name": "stdout",
     "output_type": "stream",
     "text": [
      "dict_values(['Python', 29, 'gmail.com', 8888888888])\n",
      "dict_values(['Python', 29, 'gmail.com', 8888888888])\n",
      "dict_items([('name', 'Python'), ('age', 29), ('emailid', 'gmail.com'), ('mobileno', 8888888888)])\n"
     ]
    }
   ],
   "source": [
    "user1={\"name\":\"Python\",\"age\":29,\"emailid\":\"gmail.com\",\"mobileno\":8888888888}\n",
    "user2=user1.copy()\n",
    "print(user1.values())\n",
    "print(user2.values())\n",
    "print(user1.items())\n"
   ]
  },
  {
   "cell_type": "code",
   "execution_count": 51,
   "metadata": {},
   "outputs": [
    {
     "name": "stdout",
     "output_type": "stream",
     "text": [
      "Python programming\n"
     ]
    }
   ],
   "source": [
    "lst=[\"Python\",\"programming\"]\n",
    "print(\"%s %s\" %(lst[0],lst[1]))\n"
   ]
  },
  {
   "cell_type": "code",
   "execution_count": 52,
   "metadata": {},
   "outputs": [
    {
     "name": "stdout",
     "output_type": "stream",
     "text": [
      "('python', 'programming', 1989, 20109, 'machine learning', 'AI')\n"
     ]
    }
   ],
   "source": [
    "list1=[\"python\",\"programming\",1989,20109,\"machine learning\",\"AI\"]\n",
    "t1=tuple(list1)\n",
    "print(t1)\n"
   ]
  },
  {
   "cell_type": "code",
   "execution_count": 53,
   "metadata": {},
   "outputs": [
    {
     "name": "stdout",
     "output_type": "stream",
     "text": [
      "user1[emailid]= gmail.com\n",
      "user1[emailid]= 123gmail.com\n"
     ]
    }
   ],
   "source": [
    "user1={\"name\":\"Python\",\"age\":29,\"emailid\":\"gmail.com\",\"mobileno\":8888888888}\n",
    "print(\"user1[emailid]=\",user1[\"emailid\"])\n",
    "user1[\"emailid\"]=\"123gmail.com\"\n",
    "print(\"user1[emailid]=\",user1[\"emailid\"])\n"
   ]
  },
  {
   "cell_type": "code",
   "execution_count": 54,
   "metadata": {},
   "outputs": [
    {
     "name": "stdout",
     "output_type": "stream",
     "text": [
      "contact Vamshi is added \n",
      "contact krishna is added \n",
      "contact kotha is added \n",
      "contact Vamshi is already added\n"
     ]
    }
   ],
   "source": [
    "contact={}\n",
    "def addcontact(name,phone):\n",
    "    if name not in contact:\n",
    "        contact[name]=phone\n",
    "        print(\"contact %s is added \"%name)\n",
    "    else:\n",
    "        print(\"contact %s is already added\"%name)\n",
    "    return \n",
    "\n",
    "addcontact(\"Vamshi\",6303883272)\n",
    "addcontact(\"krishna\",9550238197)\n",
    "addcontact(\"kotha\",9290082933)\n",
    "addcontact(\"Vamshi\",6303883272)        "
   ]
  },
  {
   "cell_type": "code",
   "execution_count": 55,
   "metadata": {},
   "outputs": [
    {
     "name": "stdout",
     "output_type": "stream",
     "text": [
      "Vamshi : 6303883272\n",
      "krishna : 9550238197\n",
      "sushanth does not exist\n"
     ]
    }
   ],
   "source": [
    "def searchcontact(name):\n",
    "    if name in contact:\n",
    "        print(name,\":\",contact[name])\n",
    "    else:\n",
    "        print(\"%s does not exist\"%name)\n",
    "    return\n",
    "searchcontact(\"Vamshi\")\n",
    "searchcontact(\"krishna\")\n",
    "searchcontact(\"sushanth\")"
   ]
  },
  {
   "cell_type": "code",
   "execution_count": 56,
   "metadata": {},
   "outputs": [
    {
     "name": "stdout",
     "output_type": "stream",
     "text": [
      "2 Contacts added successfully\n"
     ]
    }
   ],
   "source": [
    "def importContacts(newContacts):\n",
    "    contact.update(newContacts)\n",
    "    print(len(newContacts.keys()),\"Contacts added successfully\")\n",
    "    return\n",
    "newContacts={\"Hari\":9247185568,\"Jaggu\":9620857528}\n",
    "importContacts(newContacts)\n",
    "    "
   ]
  },
  {
   "cell_type": "code",
   "execution_count": 57,
   "metadata": {},
   "outputs": [
    {
     "name": "stdout",
     "output_type": "stream",
     "text": [
      "{'Vamshi': 6303883272, 'krishna': 9550238197, 'kotha': 9290082933, 'Hari': 9247185568, 'Jaggu': 9620857528}\n"
     ]
    }
   ],
   "source": [
    "print(contact)"
   ]
  },
  {
   "cell_type": "code",
   "execution_count": 58,
   "metadata": {},
   "outputs": [
    {
     "name": "stdout",
     "output_type": "stream",
     "text": [
      "yash not exists in contacts\n",
      "aravind not exists in contacts\n"
     ]
    }
   ],
   "source": [
    "def deleteContact(name):\n",
    "    if name in contact:\n",
    "        del contact[name]\n",
    "        print(name,\": is deleted from contacts\")\n",
    "    else:\n",
    "        print(name,\"not exists in contacts\")\n",
    "    return\n",
    "deleteContact(\"yash\")\n",
    "deleteContact(\"aravind\")"
   ]
  },
  {
   "cell_type": "code",
   "execution_count": 59,
   "metadata": {},
   "outputs": [
    {
     "name": "stdout",
     "output_type": "stream",
     "text": [
      "Vamshi :update with new phone number\n",
      "ravi not exists in contact\n"
     ]
    }
   ],
   "source": [
    "def updateContact(name,phone):\n",
    "    if name in contact:\n",
    "        contact[name]=phone\n",
    "        print(name,\":update with new phone number\")\n",
    "    else:\n",
    "        print(name,\"not exists in contact\")\n",
    "    return\n",
    "updateContact(\"Vamshi\",9848438412)\n",
    "updateContact(\"ravi\",9059075568)"
   ]
  },
  {
   "cell_type": "code",
   "execution_count": 60,
   "metadata": {},
   "outputs": [
    {
     "name": "stdout",
     "output_type": "stream",
     "text": [
      "{'Vamshi': 9848438412, 'krishna': 9550238197, 'kotha': 9290082933, 'Hari': 9247185568, 'Jaggu': 9620857528}\n"
     ]
    }
   ],
   "source": [
    "print(contact)"
   ]
  },
  {
   "cell_type": "code",
   "execution_count": 34,
   "metadata": {},
   "outputs": [
    {
     "name": "stdout",
     "output_type": "stream",
     "text": [
      "value at :1 value at:2\n",
      "value at :3 value at:2\n"
     ]
    }
   ],
   "source": [
    "lst=[1,2,3,4]\n",
    "print(\"value at :{0} value at:{1}\".format(lst[0],lst[1]))\n",
    "print(\"value at :{0} value at:{1}\".format(lst[2],lst[1]))\n",
    "      "
   ]
  },
  {
   "cell_type": "code",
   "execution_count": 61,
   "metadata": {},
   "outputs": [
    {
     "data": {
      "text/plain": [
       "123"
      ]
     },
     "execution_count": 61,
     "metadata": {},
     "output_type": "execute_result"
    }
   ],
   "source": [
    "from math import floor as f1\n",
    "f1(123.456)"
   ]
  },
  {
   "cell_type": "code",
   "execution_count": 62,
   "metadata": {},
   "outputs": [
    {
     "data": {
      "text/plain": [
       "720"
      ]
     },
     "execution_count": 62,
     "metadata": {},
     "output_type": "execute_result"
    }
   ],
   "source": [
    "from math import factorial as fact\n",
    "fact(6)"
   ]
  },
  {
   "cell_type": "code",
   "execution_count": 63,
   "metadata": {},
   "outputs": [
    {
     "data": {
      "text/plain": [
       "720"
      ]
     },
     "execution_count": 63,
     "metadata": {},
     "output_type": "execute_result"
    }
   ],
   "source": [
    "import math\n",
    "math.factorial(6)"
   ]
  },
  {
   "cell_type": "code",
   "execution_count": 65,
   "metadata": {},
   "outputs": [
    {
     "name": "stdout",
     "output_type": "stream",
     "text": [
      "116 66 113 58 17 38 81 117 72 27 "
     ]
    }
   ],
   "source": [
    "import random\n",
    "def generateRandomNumbers(n,lb,ub):\n",
    "    for i in range(0,n):\n",
    "        print(random.randint(lb,ub),end=\" \")\n",
    "    return\n",
    "generateRandomNumbers(10,12,120)"
   ]
  },
  {
   "cell_type": "code",
   "execution_count": 70,
   "metadata": {},
   "outputs": [
    {
     "data": {
      "text/plain": [
       "2"
      ]
     },
     "execution_count": 70,
     "metadata": {},
     "output_type": "execute_result"
    }
   ],
   "source": [
    "d={\"anil\":28,\"harsha\":29}\n",
    "len(d)"
   ]
  },
  {
   "cell_type": "code",
   "execution_count": null,
   "metadata": {},
   "outputs": [],
   "source": []
  }
 ],
 "metadata": {
  "kernelspec": {
   "display_name": "Python 3",
   "language": "python",
   "name": "python3"
  },
  "language_info": {
   "codemirror_mode": {
    "name": "ipython",
    "version": 3
   },
   "file_extension": ".py",
   "mimetype": "text/x-python",
   "name": "python",
   "nbconvert_exporter": "python",
   "pygments_lexer": "ipython3",
   "version": "3.7.3"
  }
 },
 "nbformat": 4,
 "nbformat_minor": 2
}
